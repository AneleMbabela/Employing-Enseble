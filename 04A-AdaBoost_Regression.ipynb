{
 "cells": [
  {
   "cell_type": "code",
   "execution_count": 1,
   "metadata": {},
   "outputs": [],
   "source": [
    "import pandas as pd\n",
    "import matplotlib.pyplot as plt"
   ]
  },
  {
   "cell_type": "code",
   "execution_count": 2,
   "metadata": {},
   "outputs": [
    {
     "data": {
      "text/html": [
       "<div>\n",
       "<style scoped>\n",
       "    .dataframe tbody tr th:only-of-type {\n",
       "        vertical-align: middle;\n",
       "    }\n",
       "\n",
       "    .dataframe tbody tr th {\n",
       "        vertical-align: top;\n",
       "    }\n",
       "\n",
       "    .dataframe thead th {\n",
       "        text-align: right;\n",
       "    }\n",
       "</style>\n",
       "<table border=\"1\" class=\"dataframe\">\n",
       "  <thead>\n",
       "    <tr style=\"text-align: right;\">\n",
       "      <th></th>\n",
       "      <th>cement</th>\n",
       "      <th>slag</th>\n",
       "      <th>flyash</th>\n",
       "      <th>water</th>\n",
       "      <th>superplasticizer</th>\n",
       "      <th>coarseaggregate</th>\n",
       "      <th>fineaggregate</th>\n",
       "      <th>age</th>\n",
       "      <th>csMPa</th>\n",
       "    </tr>\n",
       "  </thead>\n",
       "  <tbody>\n",
       "    <tr>\n",
       "      <th>0</th>\n",
       "      <td>540.0</td>\n",
       "      <td>0.0</td>\n",
       "      <td>0.0</td>\n",
       "      <td>162.0</td>\n",
       "      <td>2.5</td>\n",
       "      <td>1040.0</td>\n",
       "      <td>676.0</td>\n",
       "      <td>28</td>\n",
       "      <td>79.99</td>\n",
       "    </tr>\n",
       "    <tr>\n",
       "      <th>1</th>\n",
       "      <td>540.0</td>\n",
       "      <td>0.0</td>\n",
       "      <td>0.0</td>\n",
       "      <td>162.0</td>\n",
       "      <td>2.5</td>\n",
       "      <td>1055.0</td>\n",
       "      <td>676.0</td>\n",
       "      <td>28</td>\n",
       "      <td>61.89</td>\n",
       "    </tr>\n",
       "    <tr>\n",
       "      <th>2</th>\n",
       "      <td>332.5</td>\n",
       "      <td>142.5</td>\n",
       "      <td>0.0</td>\n",
       "      <td>228.0</td>\n",
       "      <td>0.0</td>\n",
       "      <td>932.0</td>\n",
       "      <td>594.0</td>\n",
       "      <td>270</td>\n",
       "      <td>40.27</td>\n",
       "    </tr>\n",
       "    <tr>\n",
       "      <th>3</th>\n",
       "      <td>332.5</td>\n",
       "      <td>142.5</td>\n",
       "      <td>0.0</td>\n",
       "      <td>228.0</td>\n",
       "      <td>0.0</td>\n",
       "      <td>932.0</td>\n",
       "      <td>594.0</td>\n",
       "      <td>365</td>\n",
       "      <td>41.05</td>\n",
       "    </tr>\n",
       "    <tr>\n",
       "      <th>4</th>\n",
       "      <td>198.6</td>\n",
       "      <td>132.4</td>\n",
       "      <td>0.0</td>\n",
       "      <td>192.0</td>\n",
       "      <td>0.0</td>\n",
       "      <td>978.4</td>\n",
       "      <td>825.5</td>\n",
       "      <td>360</td>\n",
       "      <td>44.30</td>\n",
       "    </tr>\n",
       "  </tbody>\n",
       "</table>\n",
       "</div>"
      ],
      "text/plain": [
       "   cement   slag  flyash  water  superplasticizer  coarseaggregate  \\\n",
       "0   540.0    0.0     0.0  162.0               2.5           1040.0   \n",
       "1   540.0    0.0     0.0  162.0               2.5           1055.0   \n",
       "2   332.5  142.5     0.0  228.0               0.0            932.0   \n",
       "3   332.5  142.5     0.0  228.0               0.0            932.0   \n",
       "4   198.6  132.4     0.0  192.0               0.0            978.4   \n",
       "\n",
       "   fineaggregate  age  csMPa  \n",
       "0          676.0   28  79.99  \n",
       "1          676.0   28  61.89  \n",
       "2          594.0  270  40.27  \n",
       "3          594.0  365  41.05  \n",
       "4          825.5  360  44.30  "
      ]
     },
     "execution_count": 2,
     "metadata": {},
     "output_type": "execute_result"
    }
   ],
   "source": [
    "concrete = pd.read_csv('datasets/concrete_data.csv')\n",
    "\n",
    "concrete.head()"
   ]
  },
  {
   "cell_type": "code",
   "execution_count": 3,
   "metadata": {},
   "outputs": [],
   "source": [
    "X = concrete.drop('csMPa', axis=1)\n",
    "\n",
    "Y = concrete['csMPa']"
   ]
  },
  {
   "cell_type": "code",
   "execution_count": 4,
   "metadata": {},
   "outputs": [],
   "source": [
    "from sklearn.model_selection import train_test_split\n",
    "\n",
    "x_train, x_test, y_train, y_test = train_test_split(X, Y, test_size=0.2)"
   ]
  },
  {
   "cell_type": "markdown",
   "metadata": {},
   "source": [
    "### AdaBoostRegressor\n",
    "https://scikit-learn.org/stable/modules/generated/sklearn.ensemble.AdaBoostRegressor.html"
   ]
  },
  {
   "cell_type": "code",
   "execution_count": 5,
   "metadata": {},
   "outputs": [],
   "source": [
    "from sklearn.ensemble import AdaBoostRegressor\n",
    "from sklearn.tree import DecisionTreeRegressor"
   ]
  },
  {
   "cell_type": "code",
   "execution_count": 6,
   "metadata": {},
   "outputs": [
    {
     "data": {
      "text/plain": [
       "AdaBoostRegressor(base_estimator=DecisionTreeRegressor(ccp_alpha=0.0,\n",
       "                                                       criterion='mse',\n",
       "                                                       max_depth=4,\n",
       "                                                       max_features=None,\n",
       "                                                       max_leaf_nodes=None,\n",
       "                                                       min_impurity_decrease=0.0,\n",
       "                                                       min_impurity_split=None,\n",
       "                                                       min_samples_leaf=1,\n",
       "                                                       min_samples_split=2,\n",
       "                                                       min_weight_fraction_leaf=0.0,\n",
       "                                                       presort='deprecated',\n",
       "                                                       random_state=None,\n",
       "                                                       splitter='best'),\n",
       "                  learning_rate=1.0, loss='linear', n_estimators=100,\n",
       "                  random_state=None)"
      ]
     },
     "execution_count": 6,
     "metadata": {},
     "output_type": "execute_result"
    }
   ],
   "source": [
    "ada_reg = AdaBoostRegressor(DecisionTreeRegressor(max_depth=4), \n",
    "                            n_estimators=100, \n",
    "                            learning_rate=1.0)\n",
    "\n",
    "ada_reg.fit(x_train, y_train)"
   ]
  },
  {
   "cell_type": "code",
   "execution_count": 7,
   "metadata": {},
   "outputs": [
    {
     "data": {
      "text/plain": [
       "array([1.63529564, 1.30051215, 1.03118376, 1.14598778, 1.19584678,\n",
       "       0.97348014, 1.44801835, 1.15996101, 1.26149827, 1.10146655,\n",
       "       1.30126347, 0.66851628, 0.89201804, 1.27164242, 0.90841067,\n",
       "       1.25988687, 0.63974341, 0.74062151, 0.92622262, 1.37566056,\n",
       "       0.93258841, 0.98094705, 0.57497238, 1.28927089, 1.05314508,\n",
       "       0.89475049, 1.26648405, 0.95544564, 0.64661841, 0.52626582,\n",
       "       0.73118565, 0.65152537, 1.32358258, 0.5206814 , 0.61292872,\n",
       "       1.25555503, 0.89022761, 1.23335046, 0.58204418, 0.9158121 ,\n",
       "       1.51853932, 0.81036876, 0.96440432, 1.40109737, 0.76211962,\n",
       "       0.5108003 , 0.57247805, 1.02642337, 0.43949139, 0.70144829,\n",
       "       0.19614289, 0.95276487, 0.52437477, 0.97858037, 0.64143226,\n",
       "       0.69456682, 0.68145044, 0.50278922, 0.49072399, 0.30729217,\n",
       "       0.87822284, 0.90024008, 0.86623857, 0.75944349, 0.41187468,\n",
       "       0.71863459, 0.54087649, 0.50541685, 0.8657213 , 0.66875   ,\n",
       "       1.04898069, 0.47290203, 0.85997784, 1.28263365, 1.041458  ,\n",
       "       0.67587158, 0.70916908, 0.82643754, 0.88929495, 1.12093336,\n",
       "       0.64707055, 0.62888434, 0.49263675, 0.88230905, 0.80308374,\n",
       "       1.13995998, 1.06731745, 0.74443407, 1.06826501, 0.57430818,\n",
       "       0.68026795, 0.70700694, 0.66458043, 1.07134423, 0.85993639,\n",
       "       0.86768855, 0.78925717, 0.47567   , 0.60796352, 1.19932578])"
      ]
     },
     "execution_count": 7,
     "metadata": {},
     "output_type": "execute_result"
    }
   ],
   "source": [
    "ada_reg.estimator_weights_"
   ]
  },
  {
   "cell_type": "code",
   "execution_count": 8,
   "metadata": {},
   "outputs": [],
   "source": [
    "y_pred = ada_reg.predict(x_test)"
   ]
  },
  {
   "cell_type": "code",
   "execution_count": 9,
   "metadata": {},
   "outputs": [
    {
     "data": {
      "text/plain": [
       "0.8157904683703769"
      ]
     },
     "execution_count": 9,
     "metadata": {},
     "output_type": "execute_result"
    }
   ],
   "source": [
    "from sklearn.metrics import r2_score\n",
    "\n",
    "r2_score(y_test, y_pred)"
   ]
  },
  {
   "cell_type": "code",
   "execution_count": 10,
   "metadata": {},
   "outputs": [
    {
     "data": {
      "text/plain": [
       "AdaBoostRegressor(base_estimator=DecisionTreeRegressor(ccp_alpha=0.0,\n",
       "                                                       criterion='mse',\n",
       "                                                       max_depth=2,\n",
       "                                                       max_features=None,\n",
       "                                                       max_leaf_nodes=None,\n",
       "                                                       min_impurity_decrease=0.0,\n",
       "                                                       min_impurity_split=None,\n",
       "                                                       min_samples_leaf=1,\n",
       "                                                       min_samples_split=2,\n",
       "                                                       min_weight_fraction_leaf=0.0,\n",
       "                                                       presort='deprecated',\n",
       "                                                       random_state=None,\n",
       "                                                       splitter='best'),\n",
       "                  learning_rate=0.5, loss='linear', n_estimators=200,\n",
       "                  random_state=None)"
      ]
     },
     "execution_count": 10,
     "metadata": {},
     "output_type": "execute_result"
    }
   ],
   "source": [
    "ada_reg = AdaBoostRegressor(DecisionTreeRegressor(max_depth=2), \n",
    "                            n_estimators=200, \n",
    "                            learning_rate=0.5)\n",
    "\n",
    "ada_reg.fit(x_train, y_train)"
   ]
  },
  {
   "cell_type": "code",
   "execution_count": 11,
   "metadata": {},
   "outputs": [
    {
     "data": {
      "text/plain": [
       "array([0.62736285, 0.68461175, 0.60248265, 0.5674366 , 0.54862311,\n",
       "       0.50783903, 0.47023334, 0.50523304, 0.49256823, 0.35967976,\n",
       "       0.49522826, 0.39419026, 0.42620662, 0.32914217, 0.35558422,\n",
       "       0.53742646, 0.54765486, 0.36531933, 0.39665037, 0.46415455,\n",
       "       0.34856903, 0.42648535, 0.39747996, 0.37286185, 0.45795611,\n",
       "       0.46622474, 0.31838732, 0.35179482, 0.4237008 , 0.41161088,\n",
       "       0.31444927, 0.47769961, 0.23244795, 0.38825213, 0.31364772,\n",
       "       0.38817039, 0.44741753, 0.33752634, 0.26150251, 0.49258828,\n",
       "       0.45477   , 0.43845055, 0.37039125, 0.21252413, 0.32731192,\n",
       "       0.23499864, 0.34665522, 0.37837447, 0.37661064, 0.34728693,\n",
       "       0.26626511, 0.3441537 , 0.54624632, 0.23210677, 0.281017  ,\n",
       "       0.29455436, 0.51081687, 0.32862776, 0.32352387, 0.43163342,\n",
       "       0.19323762, 0.37052642, 0.28554551, 0.40062327, 0.34642246,\n",
       "       0.25731772, 0.41401971, 0.46129623, 0.19043246, 0.44588965,\n",
       "       0.32321514, 0.11886813, 0.26971968, 0.5213461 , 0.38588481,\n",
       "       0.30119211, 0.325817  , 0.49646732, 0.28722395, 0.16492088,\n",
       "       0.34871347, 0.20791279, 0.42637298, 0.26286161, 0.26181899,\n",
       "       0.24364733, 0.29687756, 0.37762019, 0.35038903, 0.31937281,\n",
       "       0.42859588, 0.10119473, 0.24179453, 0.16628448, 0.49665323,\n",
       "       0.41217275, 0.27180331, 0.36367938, 0.1355334 , 0.38807578,\n",
       "       0.32765388, 0.34260597, 0.26081166, 0.38669564, 0.25275719,\n",
       "       0.23877379, 0.26055912, 0.36633391, 0.34833195, 0.2198593 ,\n",
       "       0.1397751 , 0.38873389, 0.23944219, 0.21534351, 0.2622226 ,\n",
       "       0.46177116, 0.18194897, 0.37129829, 0.13611706, 0.28174629,\n",
       "       0.55722189, 0.36751398, 0.41703961, 0.17716908, 0.45752489,\n",
       "       0.25136817, 0.21196352, 0.42794891, 0.29852119, 0.31011891,\n",
       "       0.42305262, 0.47084506, 0.22827736, 0.18740578, 0.35715838,\n",
       "       0.15667154, 0.24072726, 0.31157098, 0.40383996, 0.23642106,\n",
       "       0.27546239, 0.44430819, 0.25102768, 0.37473125, 0.32401322,\n",
       "       0.1701944 , 0.29476869, 0.13856242, 0.31100926, 0.28378056,\n",
       "       0.19464696, 0.28597483, 0.35507547, 0.07327978, 0.08992564,\n",
       "       0.34604954, 0.14037261, 0.4203373 , 0.31571342, 0.15953762,\n",
       "       0.27334623, 0.5307791 , 0.42473443, 0.39235574, 0.05881345,\n",
       "       0.28885764, 0.37856243, 0.43321945, 0.19113023, 0.27653685,\n",
       "       0.38387266, 0.19623958, 0.28258725, 0.25981254, 0.28903575,\n",
       "       0.43637635, 0.18348647, 0.05409903, 0.24695003, 0.32476435,\n",
       "       0.19329167, 0.47019702, 0.74772162, 0.36513153, 0.17139267,\n",
       "       0.51467332, 0.29361665, 0.1756827 , 0.36729919, 0.2140406 ,\n",
       "       0.66324592, 0.4884841 , 0.27945233, 0.24914999, 0.32294934,\n",
       "       0.28439699, 0.22705162, 0.10787707, 0.09180917, 0.38568961])"
      ]
     },
     "execution_count": 11,
     "metadata": {},
     "output_type": "execute_result"
    }
   ],
   "source": [
    "ada_reg.estimator_weights_"
   ]
  },
  {
   "cell_type": "code",
   "execution_count": 12,
   "metadata": {},
   "outputs": [],
   "source": [
    "y_pred = ada_reg.predict(x_test)"
   ]
  },
  {
   "cell_type": "code",
   "execution_count": 13,
   "metadata": {},
   "outputs": [
    {
     "data": {
      "text/plain": [
       "0.6513859696623183"
      ]
     },
     "execution_count": 13,
     "metadata": {},
     "output_type": "execute_result"
    }
   ],
   "source": [
    "from sklearn.metrics import r2_score\n",
    "\n",
    "r2_score(y_test, y_pred)"
   ]
  }
 ],
 "metadata": {
  "kernelspec": {
   "display_name": "Python 3",
   "language": "python",
   "name": "python3"
  },
  "language_info": {
   "codemirror_mode": {
    "name": "ipython",
    "version": 3
   },
   "file_extension": ".py",
   "mimetype": "text/x-python",
   "name": "python",
   "nbconvert_exporter": "python",
   "pygments_lexer": "ipython3",
   "version": "3.7.6"
  }
 },
 "nbformat": 4,
 "nbformat_minor": 2
}
